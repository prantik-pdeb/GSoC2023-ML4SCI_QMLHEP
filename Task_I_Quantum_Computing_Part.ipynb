{
  "nbformat": 4,
  "nbformat_minor": 0,
  "metadata": {
    "colab": {
      "provenance": [],
      "toc_visible": true,
      "authorship_tag": "ABX9TyOl8PYumbMN+E6LI7/52ROF",
      "include_colab_link": true
    },
    "kernelspec": {
      "name": "python3",
      "display_name": "Python 3"
    },
    "language_info": {
      "name": "python"
    }
  },
  "cells": [
    {
      "cell_type": "markdown",
      "metadata": {
        "id": "view-in-github",
        "colab_type": "text"
      },
      "source": [
        "<a href=\"https://colab.research.google.com/github/prantik-pdeb/GSoC2023-ML4SCI_QMLHEP/blob/main/Task_I_Quantum_Computing_Part.ipynb\" target=\"_parent\"><img src=\"https://colab.research.google.com/assets/colab-badge.svg\" alt=\"Open In Colab\"/></a>"
      ]
    },
    {
      "cell_type": "code",
      "execution_count": 13,
      "metadata": {
        "id": "qbHqqB6LQ2lu"
      },
      "outputs": [],
      "source": []
    },
    {
      "cell_type": "markdown",
      "source": [
        "1**) Implement a simple quantum operation with Cirq or Pennylane**\n",
        "\n",
        "a) With 5 qubits \n",
        "\n",
        "b) Apply Hadamard operation on every qubit \n",
        "\n",
        "c) Apply CNOT operation on (0, 1), (1,2), (2,3), (3,4) \n",
        "\n",
        "d) SWAP (0, 4) \n",
        "\n",
        "e) Rotate X with pi/2 on any qubit \n",
        "\n",
        "f) Plot the circuit \n"
      ],
      "metadata": {
        "id": "wb_9MWDnRt3b"
      }
    },
    {
      "cell_type": "markdown",
      "source": [
        "## Using Cirq:"
      ],
      "metadata": {
        "id": "2trlWVZIT3BE"
      }
    },
    {
      "cell_type": "code",
      "source": [
        "# Installing\n",
        "!pip install cirq-google --pre"
      ],
      "metadata": {
        "id": "-scc7xhSRxnY"
      },
      "execution_count": null,
      "outputs": []
    },
    {
      "cell_type": "code",
      "source": [
        "# Import necessery packages\n",
        "import cirq\n",
        "import numpy as np"
      ],
      "metadata": {
        "id": "kjAaqyY1SYr7"
      },
      "execution_count": 15,
      "outputs": []
    },
    {
      "cell_type": "code",
      "source": [
        "# Define 5 qubits\n",
        "q0 = cirq.NamedQubit(\"q0\")\n",
        "q1 = cirq.NamedQubit(\"q1\")\n",
        "q2 = cirq.NamedQubit(\"q2\")\n",
        "q3 = cirq.NamedQubit(\"q3\")\n",
        "q4 = cirq.NamedQubit(\"q4\")\n",
        "pi = np.pi"
      ],
      "metadata": {
        "id": "EJvYfKPFSYut"
      },
      "execution_count": 16,
      "outputs": []
    },
    {
      "cell_type": "code",
      "source": [
        "# Apply Hadamard operation on every qubit \n",
        "# Apply CNOT operation on (0, 1), (1,2), (2,3), (3,4) \n",
        "# SWAP (0, 4) \n",
        "# Rotate X with pi/2 on any qubit \n",
        "\n",
        "operation = [cirq.H(q0), cirq.H(q1), cirq.H(q2), cirq.H(q3), cirq.H(q4),\n",
        "             cirq.CNOT(q0,q1), cirq.CNOT(q1,q2), cirq.CNOT(q2,q3),cirq.CNOT(q3,q4), cirq.SWAP(q0,q4),\n",
        "             cirq.Rx(rads = 0.5*np.pi)(q0)]"
      ],
      "metadata": {
        "id": "F7s5fCB7SYxm"
      },
      "execution_count": 17,
      "outputs": []
    },
    {
      "cell_type": "code",
      "source": [
        "# Plot the Circuit\n",
        "circuit = cirq.Circuit(operation)\n",
        "print(circuit)"
      ],
      "metadata": {
        "id": "tDb51uzDSe_A",
        "colab": {
          "base_uri": "https://localhost:8080/"
        },
        "outputId": "0498e21f-ee3f-44a1-e89e-b4729c25e7d0"
      },
      "execution_count": 18,
      "outputs": [
        {
          "output_type": "stream",
          "name": "stdout",
          "text": [
            "q0: ───H───@───────────────×───Rx(0.5π)───\n",
            "           │               │\n",
            "q1: ───H───X───@───────────┼──────────────\n",
            "               │           │\n",
            "q2: ───H───────X───@───────┼──────────────\n",
            "                   │       │\n",
            "q3: ───H───────────X───@───┼──────────────\n",
            "                       │   │\n",
            "q4: ───H───────────────X───×──────────────\n"
          ]
        }
      ]
    },
    {
      "cell_type": "code",
      "source": [],
      "metadata": {
        "id": "wNTJ5EV2SfCI"
      },
      "execution_count": 18,
      "outputs": []
    },
    {
      "cell_type": "markdown",
      "source": [
        "**2) Implement a second circuit with a framework of your choice:**\n",
        "\n",
        "\n",
        "a) Apply a Hadmard gate to the first qubit\n",
        "\n",
        "b) Rotate the second qubit by pi/3 around X\n",
        "\n",
        "c) Apply Hadamard gate to the third and fourth qubit\n",
        "\n",
        "d) Perform a swap test between the states of the first and second qubit |q1 q2> and the third and fourth qubit |q3 q4>\n"
      ],
      "metadata": {
        "id": "m-GdUJeUTJ65"
      }
    },
    {
      "cell_type": "markdown",
      "source": [
        "## Using Qiskit:"
      ],
      "metadata": {
        "id": "Nxj0YKkxGPAY"
      }
    },
    {
      "cell_type": "code",
      "source": [
        "# Installing Qiskit \n",
        "!pip install qiskit"
      ],
      "metadata": {
        "id": "5iOxg51xTcjO"
      },
      "execution_count": null,
      "outputs": []
    },
    {
      "cell_type": "code",
      "source": [
        "from qiskit import QuantumCircuit, QuantumRegister, ClassicalRegister\n",
        "from qiskit import Aer, execute\n",
        "from qiskit.visualization import circuit_drawer\n",
        "from math import pi\n",
        "# Initialize the quantum circuit with 4 qubits and 1 classical bit\n",
        "q = QuantumRegister(4)\n",
        "c = ClassicalRegister(1)\n",
        "circuit = QuantumCircuit(q, c)\n",
        "\n",
        "# Apply Hadamard gate to the first qubit\n",
        "circuit.h(q[0])\n",
        "\n",
        "# Rotate the second qubit by pi/3 around X\n",
        "circuit.rx(pi/3, q[1])\n",
        "\n",
        "# Perform a swap test between the states of the first and second qubit |q1 q2> \n",
        "# and the third and fourth qubit |q3 q4>\n",
        "# Apply Hadamard gate to the third and fourth qubit\n",
        "circuit.h(q[2])\n",
        "circuit.h(q[3])\n",
        "\n",
        "# create an entangled state between qubits 2 and 3\n",
        "circuit.h(q[1])\n",
        "circuit.cx(q[1], q[2])\n",
        "\n",
        "# apply a controlled-swap gate between qubits 1 and 2\n",
        "circuit.cswap(q[0], q[1], q[2])\n",
        "\n",
        "# apply a controlled-swap gate between qubits 3 and 4\n",
        "circuit.cswap(q[2], q[3], q[0])\n",
        "\n",
        "# apply Hadamard gates to the first and third qubits\n",
        "circuit.h(q[0])\n",
        "circuit.h(q[2])\n",
        "\n",
        "# measure the first qubit\n",
        "circuit.measure(q[0], c[0])\n",
        "\n",
        "# execute the circuit and print the result\n",
        "backend = Aer.get_backend('qasm_simulator')\n",
        "result = execute(circuit, backend, shots=1024).result()\n",
        "counts = result.get_counts(circuit)\n",
        "print(counts)\n",
        "\n",
        "# Draw the circuit\n",
        "circuit_drawer(circuit)"
      ],
      "metadata": {
        "colab": {
          "base_uri": "https://localhost:8080/",
          "height": 204
        },
        "id": "sN7teQwLSxrZ",
        "outputId": "12244292-9ac5-4074-d799-cb45d5e8d157"
      },
      "execution_count": 20,
      "outputs": [
        {
          "output_type": "stream",
          "name": "stdout",
          "text": [
            "{'1': 68, '0': 956}\n"
          ]
        },
        {
          "output_type": "execute_result",
          "data": {
            "text/plain": [
              "          ┌───┐                   ┌───┐┌─┐\n",
              "q34_0: ───┤ H ├──────────────■──X─┤ H ├┤M├\n",
              "       ┌──┴───┴──┐┌───┐      │  │ └───┘└╥┘\n",
              "q34_1: ┤ Rx(π/3) ├┤ H ├──■───X──┼───────╫─\n",
              "       └──┬───┬──┘└───┘┌─┴─┐ │  │ ┌───┐ ║ \n",
              "q34_2: ───┤ H ├────────┤ X ├─X──■─┤ H ├─╫─\n",
              "          ├───┤        └───┘    │ └───┘ ║ \n",
              "q34_3: ───┤ H ├─────────────────X───────╫─\n",
              "          └───┘                         ║ \n",
              " c7: 1/═════════════════════════════════╩═\n",
              "                                        0 "
            ],
            "text/html": [
              "<pre style=\"word-wrap: normal;white-space: pre;background: #fff0;line-height: 1.1;font-family: &quot;Courier New&quot;,Courier,monospace\">          ┌───┐                   ┌───┐┌─┐\n",
              "q34_0: ───┤ H ├──────────────■──X─┤ H ├┤M├\n",
              "       ┌──┴───┴──┐┌───┐      │  │ └───┘└╥┘\n",
              "q34_1: ┤ Rx(π/3) ├┤ H ├──■───X──┼───────╫─\n",
              "       └──┬───┬──┘└───┘┌─┴─┐ │  │ ┌───┐ ║ \n",
              "q34_2: ───┤ H ├────────┤ X ├─X──■─┤ H ├─╫─\n",
              "          ├───┤        └───┘    │ └───┘ ║ \n",
              "q34_3: ───┤ H ├─────────────────X───────╫─\n",
              "          └───┘                         ║ \n",
              " c7: 1/═════════════════════════════════╩═\n",
              "                                        0 </pre>"
            ]
          },
          "metadata": {},
          "execution_count": 20
        }
      ]
    },
    {
      "cell_type": "code",
      "source": [],
      "metadata": {
        "id": "8U8QsQt3TalC"
      },
      "execution_count": 20,
      "outputs": []
    }
  ]
}